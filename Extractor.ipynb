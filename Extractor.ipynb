{
 "cells": [
  {
   "cell_type": "code",
   "execution_count": 106,
   "metadata": {
    "collapsed": true
   },
   "outputs": [],
   "source": [
    "import json"
   ]
  },
  {
   "cell_type": "code",
   "execution_count": 107,
   "metadata": {
    "collapsed": false
   },
   "outputs": [
    {
     "name": "stdout",
     "output_type": "stream",
     "text": [
      "Enter file address of logs\n",
      "C:\\Users\\lenovo\\Documents\\IEEE WebDev\\IEEE SP Web Dev Slack export May 15 2017\n"
     ]
    }
   ],
   "source": [
    "from os import walk\n",
    "#mypath = r'C:\\Users\\lenovo\\Documents\\IEEE WebDev\\IEEE SP Web Dev Slack export May 15 2017'\n",
    "mypath = input(\"Enter file address of logs\\n\") "
   ]
  },
  {
   "cell_type": "code",
   "execution_count": 108,
   "metadata": {
    "collapsed": true
   },
   "outputs": [],
   "source": [
    "import html.parser\n",
    "html_parser = html.parser.HTMLParser()"
   ]
  },
  {
   "cell_type": "code",
   "execution_count": 110,
   "metadata": {
    "collapsed": false
   },
   "outputs": [],
   "source": [
    "with open(mypath + '\\\\' + 'users.json') as data_file:    \n",
    "    users = json.load(data_file)"
   ]
  },
  {
   "cell_type": "code",
   "execution_count": 111,
   "metadata": {
    "collapsed": false
   },
   "outputs": [
    {
     "name": "stdout",
     "output_type": "stream",
     "text": [
      "[{'name': 'abhishek', 'id': 'U57BNJK7G'}, {'name': 'aneesh297', 'id': 'U52KA1B41'}, {'name': 'anmolh', 'id': 'U5479Q8KV'}, {'name': 'arvind111', 'id': 'U549B06V8'}, {'name': 'briny_peddler', 'id': 'U5AT2AH6U'}, {'name': 'gj', 'id': 'U57AF2MQU'}, {'name': 'mahim23', 'id': 'U52GBB6TA'}, {'name': 'manas1998', 'id': 'U5866PWNB'}, {'name': 'mehakarora', 'id': 'U5B8B4CBA'}, {'name': 'mehnaz18', 'id': 'U53NLR7B3'}, {'name': 'mirthunraj', 'id': 'U55GZPZPV'}, {'name': 'mishal23', 'id': 'U536M4S7L'}, {'name': 'nishantkr', 'id': 'U548ZLVEW'}, {'name': 'omkar_p31', 'id': 'U52GL5UQ0'}, {'name': 'pachianil', 'id': 'U54M2QJPK'}, {'name': 'pratyush82', 'id': 'U585PDFSM'}, {'name': 'pvgupta24', 'id': 'U53MW3E0G'}, {'name': 'rahul', 'id': 'U59FV35C7'}, {'name': 'sagarb', 'id': 'U552Q5RH6'}, {'name': 'samarthb', 'id': 'U5CT7AE79'}, {'name': 'sanjanak', 'id': 'U58E0QC15'}, {'name': 'shivanimishra123', 'id': 'U5A1N7TGU'}, {'name': 'srahulsrihari36', 'id': 'U5C5SLR29'}, {'name': 'suyashghuge', 'id': 'U57DKAK8F'}, {'name': 'uday_aditya', 'id': 'U586AT5S8'}, {'name': 'vanshika', 'id': 'U54UM5GLU'}, {'name': 'vidhikothari', 'id': 'U554ESJEB'}, {'name': 'viggi', 'id': 'U52HJQQMR'}, {'name': 'visha_1', 'id': 'U56HKB9PS'}, {'name': 'vkgvvinay', 'id': 'U597AC90S'}]\n"
     ]
    }
   ],
   "source": [
    "names = []\n",
    "for user in users:\n",
    "    temp = {}\n",
    "    temp['name'] = user['name']\n",
    "    temp['id'] = user['id']\n",
    "    names.append(temp)\n",
    "print (names)"
   ]
  },
  {
   "cell_type": "code",
   "execution_count": 112,
   "metadata": {
    "collapsed": false
   },
   "outputs": [],
   "source": [
    "names_list = {}\n",
    "for i in names:\n",
    "    names_list[i['id']] = i['name']"
   ]
  },
  {
   "cell_type": "code",
   "execution_count": 113,
   "metadata": {
    "collapsed": false,
    "scrolled": true
   },
   "outputs": [
    {
     "name": "stdout",
     "output_type": "stream",
     "text": [
      "{'U57BNJK7G': 'abhishek', 'U52KA1B41': 'aneesh297', 'U5479Q8KV': 'anmolh', 'U549B06V8': 'arvind111', 'U5AT2AH6U': 'briny_peddler', 'U57AF2MQU': 'gj', 'U52GBB6TA': 'mahim23', 'U5866PWNB': 'manas1998', 'U5B8B4CBA': 'mehakarora', 'U53NLR7B3': 'mehnaz18', 'U55GZPZPV': 'mirthunraj', 'U536M4S7L': 'mishal23', 'U548ZLVEW': 'nishantkr', 'U52GL5UQ0': 'omkar_p31', 'U54M2QJPK': 'pachianil', 'U585PDFSM': 'pratyush82', 'U53MW3E0G': 'pvgupta24', 'U59FV35C7': 'rahul', 'U552Q5RH6': 'sagarb', 'U5CT7AE79': 'samarthb', 'U58E0QC15': 'sanjanak', 'U5A1N7TGU': 'shivanimishra123', 'U5C5SLR29': 'srahulsrihari36', 'U57DKAK8F': 'suyashghuge', 'U586AT5S8': 'uday_aditya', 'U54UM5GLU': 'vanshika', 'U554ESJEB': 'vidhikothari', 'U52HJQQMR': 'viggi', 'U56HKB9PS': 'visha_1', 'U597AC90S': 'vkgvvinay'}\n"
     ]
    }
   ],
   "source": [
    "print(names_list)"
   ]
  },
  {
   "cell_type": "code",
   "execution_count": 114,
   "metadata": {
    "collapsed": false
   },
   "outputs": [],
   "source": [
    "with open(mypath + '\\\\' + 'channels.json') as data_file:    \n",
    "    channels_json = json.load(data_file)"
   ]
  },
  {
   "cell_type": "code",
   "execution_count": 115,
   "metadata": {
    "collapsed": false
   },
   "outputs": [
    {
     "name": "stdout",
     "output_type": "stream",
     "text": [
      "['bookshelf', 'doubts', 'general', 'random']\n"
     ]
    }
   ],
   "source": [
    "channels = []\n",
    "for channel in channels_json:\n",
    "    channels.append(channel['name'])\n",
    "print (channels)"
   ]
  },
  {
   "cell_type": "code",
   "execution_count": 117,
   "metadata": {
    "collapsed": false
   },
   "outputs": [
    {
     "name": "stderr",
     "output_type": "stream",
     "text": [
      "C:\\Users\\lenovo\\Anaconda3\\lib\\site-packages\\ipykernel\\__main__.py:23: DeprecationWarning: The unescape method is deprecated and will be removed in 3.5, use html.unescape() instead.\n"
     ]
    }
   ],
   "source": [
    "final_log = []\n",
    "for channel in channels:\n",
    "    file = open(channel + '.txt','w')\n",
    "    path = mypath + '\\\\'+ channel\n",
    "    f = []\n",
    "    for (dirpath, dirnames, filenames) in walk(path):\n",
    "        f.extend(filenames)\n",
    "        break\n",
    "    log = []\n",
    "    for session in f:\n",
    "        with open(path+'\\\\'+session) as data_file:    \n",
    "            data = json.load(data_file)\n",
    "        for mesg in data:\n",
    "            sub = 1\n",
    "            for x in mesg:\n",
    "                if x == 'subtype':\n",
    "                    sub = 0\n",
    "                    break\n",
    "            if mesg['type'] == 'message' and sub:\n",
    "                temp = {}\n",
    "                temp['name'] = names_list[mesg['user']]\n",
    "                temp['text'] = mesg['text']\n",
    "                temp['text'] =  html_parser.unescape(temp['text'])\n",
    "                file.write(temp['name'] + ':  ')\n",
    "                file.write(temp['text'] + '\\n')\n",
    "                log.append(temp)\n",
    "    final_log.append(log)\n",
    "    file.close()"
   ]
  },
  {
   "cell_type": "code",
   "execution_count": 86,
   "metadata": {
    "collapsed": false,
    "scrolled": true
   },
   "outputs": [
    {
     "data": {
      "text/plain": [
       "[{'name': 'aneesh297',\n",
       "  'text': \"btw while this is somewhat boring, it's still essential. Wait till Javascript. That's when the fun begins xD\"},\n",
       " {'name': 'aneesh297',\n",
       "  'text': 'hey, do you guys think the pace is a bit too fast?'},\n",
       " {'name': 'mahim23', 'text': 'No its fine'},\n",
       " {'name': 'mahim23', 'text': '(My opinion)'},\n",
       " {'name': 'pratyush82', 'text': 'no...it seems perfect'}]"
      ]
     },
     "execution_count": 86,
     "metadata": {},
     "output_type": "execute_result"
    }
   ],
   "source": []
  },
  {
   "cell_type": "code",
   "execution_count": 100,
   "metadata": {
    "collapsed": false
   },
   "outputs": [],
   "source": [
    "strr = '&lt;div class=\\cities\\&gt;\\n&lt;h2&gt;Paris&lt;\\/h2&gt;\\n&lt;p&gt;Paris is the capital \\\n",
    "and most populous city of France.&lt;\\\n",
    "\\/p&gt;\\n&lt;\\/div&gt;\\n\\n&lt;div class=\\cities\\&gt;\\n&lt;h2&gt;\\\n",
    "Tokyo&lt;\\/h2&gt;\\n&lt;p&gt;Tokyo is the capital of Japan, the center of the Greater Tokyo\\\n",
    "Area,\\nand the most populous metropolitan area in the world.&lt;\\/p&gt;\\n&lt;\\/div&gt;,'"
   ]
  },
  {
   "cell_type": "code",
   "execution_count": 101,
   "metadata": {
    "collapsed": false
   },
   "outputs": [
    {
     "name": "stderr",
     "output_type": "stream",
     "text": [
      "C:\\Users\\lenovo\\Anaconda3\\lib\\site-packages\\ipykernel\\__main__.py:3: DeprecationWarning: The unescape method is deprecated and will be removed in 3.5, use html.unescape() instead.\n",
      "  app.launch_new_instance()\n"
     ]
    }
   ],
   "source": [
    "\n",
    "unescaped = html_parser.unescape(strr)"
   ]
  },
  {
   "cell_type": "code",
   "execution_count": 102,
   "metadata": {
    "collapsed": false
   },
   "outputs": [
    {
     "data": {
      "text/plain": [
       "'<div class=\\\\cities\\\\>\\n<h2>Paris<\\\\/h2>\\n<p>Paris is the capital and most populous city of France.<\\\\/p>\\n<\\\\/div>\\n\\n<div class=\\\\cities\\\\>\\n<h2>Tokyo<\\\\/h2>\\n<p>Tokyo is the capital of Japan, the center of the Greater TokyoArea,\\nand the most populous metropolitan area in the world.<\\\\/p>\\n<\\\\/div>,'"
      ]
     },
     "execution_count": 102,
     "metadata": {},
     "output_type": "execute_result"
    }
   ],
   "source": [
    "unescaped"
   ]
  },
  {
   "cell_type": "code",
   "execution_count": null,
   "metadata": {
    "collapsed": true
   },
   "outputs": [],
   "source": []
  }
 ],
 "metadata": {
  "kernelspec": {
   "display_name": "Python 3",
   "language": "python",
   "name": "python3"
  },
  "language_info": {
   "codemirror_mode": {
    "name": "ipython",
    "version": 3
   },
   "file_extension": ".py",
   "mimetype": "text/x-python",
   "name": "python",
   "nbconvert_exporter": "python",
   "pygments_lexer": "ipython3",
   "version": "3.6.0"
  }
 },
 "nbformat": 4,
 "nbformat_minor": 2
}
